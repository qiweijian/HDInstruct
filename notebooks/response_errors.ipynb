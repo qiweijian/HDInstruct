{
 "cells": [
  {
   "cell_type": "code",
   "execution_count": 1,
   "metadata": {},
   "outputs": [
    {
     "name": "stdout",
     "output_type": "stream",
     "text": [
      "/home/qwj/code/HDInstruct\n"
     ]
    }
   ],
   "source": [
    "%cd ../\n"
   ]
  },
  {
   "cell_type": "code",
   "execution_count": 2,
   "metadata": {},
   "outputs": [],
   "source": [
    "import os\n",
    "\n",
    "os.environ['CUDA_VISIBLE_DEVICES'] = '0,1,2,3'\n",
    "\n",
    "from models import get_inference_model\n",
    "from generate_response import MyGenerationArguments"
   ]
  },
  {
   "cell_type": "code",
   "execution_count": 3,
   "metadata": {},
   "outputs": [
    {
     "data": {
      "text/plain": [
       "'gpt2'"
      ]
     },
     "execution_count": 3,
     "metadata": {},
     "output_type": "execute_result"
    }
   ],
   "source": [
    "gen_args = MyGenerationArguments()\n",
    "gen_args.model_name"
   ]
  },
  {
   "cell_type": "code",
   "execution_count": 4,
   "metadata": {},
   "outputs": [
    {
     "name": "stdout",
     "output_type": "stream",
     "text": [
      "Based on the following passage, answer the question.\n",
      "\n",
      "Passage: Beyoncé Giselle Knowles-Carter (\\/biːˈjɒnseɪ\\/ bee-YON-say) (born September 4, 1981) is an American singer, songwriter, record producer and actress. Born and raised in Houston, Texas, she performed in various singing and dancing competitions as a child, and rose to fame in the late 1990s as lead singer of R&B girl-group Destiny's Child. Managed by her father, Mathew Knowles, the group became one of the world's best-selling girl groups of all time. Their hiatus saw the release of Beyoncé's debut album, Dangerously in Love (2003), which established her as a solo artist worldwide, earned five Grammy Awards and featured the Billboard Hot 100 number-one singles \"Crazy in Love\" and \"Baby Bo\".\n",
      "Q: In what R&B group was she the lead singer?\n",
      "A: Destiny's Child\n",
      "Q: Did Beyoncé grow up in Houston, Texas?\n",
      "A: Yes\n",
      "\n",
      "Passage: Once upon a time, in a barn near a farm house, there lived a little white kitten named Cotton. Cotton lived high up in a nice warm place above the barn where all of the farmer's horses slept. But Cotton wasn't alone in her little home above the barn, oh no. She shared her hay bed with her mommy and 5 other sisters. All of her sisters were cute and fluffy, like Cotton. But she was the only white one in the bunch. The rest of her sisters were all orange with beautiful white tiger stripes like Cotton's mommy. Being different made Cotton quite sad. She often wished she looked like the rest of her family. So one day, when Cotton found a can of the old farmer's orange paint, she used it to paint herself like them. When her mommy and sisters found her they started laughing. \n",
      "\n",
      "\"What are you doing, Cotton?!\" \n",
      "\n",
      "\"I only wanted to be more like you\". \n",
      "\n",
      "Cotton's mommy rubbed her face on Cotton's and said \"Oh Cotton, but your fur is so pretty and special, like you. We would never want you to be any other way\". And with that, Cotton's mommy picked her up and dropped her into a big bucket of water. When Cotton came out she was herself again. Her sisters licked her face until Cotton's fur was all all dry. \n",
      "\n",
      "\"Don't ever do that again, Cotton!\" they all cried. \"Next time you might mess up that pretty white fur of yours and we wouldn't want that!\" \n",
      "\n",
      "Then Cotton thought, \"I change my mind. I like being special\".\n",
      "Q: What color was Cotton?\n",
      "A: \n"
     ]
    }
   ],
   "source": [
    "prompt = \"Based on the following passage, answer the question.\\n\\nPassage: Beyonc\\u00e9 Giselle Knowles-Carter (\\/bi\\u02d0\\u02c8j\\u0252nse\\u026a\\/ bee-YON-say) (born September 4, 1981) is an American singer, songwriter, record producer and actress. Born and raised in Houston, Texas, she performed in various singing and dancing competitions as a child, and rose to fame in the late 1990s as lead singer of R&B girl-group Destiny's Child. Managed by her father, Mathew Knowles, the group became one of the world's best-selling girl groups of all time. Their hiatus saw the release of Beyonc\\u00e9's debut album, Dangerously in Love (2003), which established her as a solo artist worldwide, earned five Grammy Awards and featured the Billboard Hot 100 number-one singles \\\"Crazy in Love\\\" and \\\"Baby Bo\\\".\\nQ: In what R&B group was she the lead singer?\\nA: Destiny's Child\\nQ: Did Beyonc\\u00e9 grow up in Houston, Texas?\\nA: Yes\\n\\nPassage: Once upon a time, in a barn near a farm house, there lived a little white kitten named Cotton. Cotton lived high up in a nice warm place above the barn where all of the farmer's horses slept. But Cotton wasn't alone in her little home above the barn, oh no. She shared her hay bed with her mommy and 5 other sisters. All of her sisters were cute and fluffy, like Cotton. But she was the only white one in the bunch. The rest of her sisters were all orange with beautiful white tiger stripes like Cotton's mommy. Being different made Cotton quite sad. She often wished she looked like the rest of her family. So one day, when Cotton found a can of the old farmer's orange paint, she used it to paint herself like them. When her mommy and sisters found her they started laughing. \\n\\n\\\"What are you doing, Cotton?!\\\" \\n\\n\\\"I only wanted to be more like you\\\". \\n\\nCotton's mommy rubbed her face on Cotton's and said \\\"Oh Cotton, but your fur is so pretty and special, like you. We would never want you to be any other way\\\". And with that, Cotton's mommy picked her up and dropped her into a big bucket of water. When Cotton came out she was herself again. Her sisters licked her face until Cotton's fur was all all dry. \\n\\n\\\"Don't ever do that again, Cotton!\\\" they all cried. \\\"Next time you might mess up that pretty white fur of yours and we wouldn't want that!\\\" \\n\\nThen Cotton thought, \\\"I change my mind. I like being special\\\".\\nQ: What color was Cotton?\\nA: \"\n",
    "print(prompt)"
   ]
  },
  {
   "cell_type": "code",
   "execution_count": 5,
   "metadata": {},
   "outputs": [
    {
     "name": "stdout",
     "output_type": "stream",
     "text": [
      "INFO 03-11 08:46:03 config.py:413] Custom all-reduce kernels are temporarily disabled due to stability issues. We will re-enable them once the issues are resolved.\n"
     ]
    },
    {
     "name": "stderr",
     "output_type": "stream",
     "text": [
      "2024-03-11 08:46:06,549\tINFO worker.py:1724 -- Started a local Ray instance.\n"
     ]
    },
    {
     "name": "stdout",
     "output_type": "stream",
     "text": [
      "INFO 03-11 08:46:07 llm_engine.py:79] Initializing an LLM engine with config: model='/data/MODELS/Mistral-7B-v0.1', tokenizer='/data/MODELS/Mistral-7B-v0.1', tokenizer_mode=auto, revision=None, tokenizer_revision=None, trust_remote_code=False, dtype=torch.bfloat16, max_seq_len=2048, download_dir=None, load_format=auto, tensor_parallel_size=2, disable_custom_all_reduce=True, quantization=None, enforce_eager=False, kv_cache_dtype=auto, device_config=cuda, seed=0)\n",
      "INFO 03-11 08:46:19 llm_engine.py:337] # GPU blocks: 13112, # CPU blocks: 4096\n",
      "INFO 03-11 08:46:20 model_runner.py:676] Capturing the model for CUDA graphs. This may lead to unexpected consequences if the model is not static. To run the model in eager mode, set 'enforce_eager=True' or use '--enforce-eager' in the CLI.\n",
      "INFO 03-11 08:46:20 model_runner.py:680] CUDA graphs can take additional 1~3 GiB memory per GPU. If you are running out of memory, consider decreasing `gpu_memory_utilization` or enforcing eager mode. You can also reduce the `max_num_seqs` as needed to decrease memory usage.\n",
      "\u001b[36m(RayWorkerVllm pid=1607118)\u001b[0m INFO 03-11 08:46:20 model_runner.py:676] Capturing the model for CUDA graphs. This may lead to unexpected consequences if the model is not static. To run the model in eager mode, set 'enforce_eager=True' or use '--enforce-eager' in the CLI.\n",
      "\u001b[36m(RayWorkerVllm pid=1607118)\u001b[0m INFO 03-11 08:46:20 model_runner.py:680] CUDA graphs can take additional 1~3 GiB memory per GPU. If you are running out of memory, consider decreasing `gpu_memory_utilization` or enforcing eager mode. You can also reduce the `max_num_seqs` as needed to decrease memory usage.\n",
      "INFO 03-11 08:46:25 model_runner.py:748] Graph capturing finished in 5 secs.\n",
      "\u001b[36m(RayWorkerVllm pid=1607118)\u001b[0m INFO 03-11 08:46:25 model_runner.py:748] Graph capturing finished in 5 secs.\n"
     ]
    }
   ],
   "source": [
    "gen_args.model_name = \"/data/MODELS/Mistral-7B-v0.1\"\n",
    "gen_args.model_type = \"completion\"\n",
    "model = get_inference_model(gen_args)"
   ]
  },
  {
   "cell_type": "markdown",
   "metadata": {},
   "source": [
    "## Greedy with no stop sign"
   ]
  },
  {
   "cell_type": "code",
   "execution_count": 6,
   "metadata": {},
   "outputs": [
    {
     "name": "stderr",
     "output_type": "stream",
     "text": [
      "\n",
      "No chat template is defined for this tokenizer - using the default template for the LlamaTokenizerFast class. If the default is not appropriate for your model, please set `tokenizer.chat_template` to an appropriate template. See https://huggingface.co/docs/transformers/main/chat_templating for more information.\n",
      "\n",
      "Processed prompts: 100%|██████████| 1/1 [00:03<00:00,  3.59s/it]\n"
     ]
    },
    {
     "data": {
      "text/plain": [
       "['\\n\\nPassage: The first thing you need to know about the 2016 presidential election is that it is not a normal election. It is not even a normal election cycle. It is not even a normal election year. It is not even a normal election decade. It is not even a normal election century. It is not even a normal election millennium. It is not even a normal election eon. It is not even a normal election era. It is not even a normal election epoch. It is not even a normal election aeon. It is not even a normal election eon. It is not even a normal election aeon. It is not even a normal election aeon. It is not even a normal election aeon. It is not even a normal election aeon. It is not even a normal election aeon. It is not even a normal election aeon. It is not even a normal election aeon. It is not even a normal election aeon. It is not even a normal election aeon. It is not even a normal election aeon. It is not even a normal election aeon. It is not even a normal election ae']"
      ]
     },
     "execution_count": 6,
     "metadata": {},
     "output_type": "execute_result"
    }
   ],
   "source": [
    "if model.greedy_samp_params.stop is None:\n",
    "    print(\"No stop token to stop the generation.\")\n",
    "\n",
    "model.greedy_generate(prompts=prompt)"
   ]
  },
  {
   "cell_type": "markdown",
   "metadata": {},
   "source": [
    "说明它没有输出答案。。。"
   ]
  }
 ],
 "metadata": {
  "kernelspec": {
   "display_name": "mistral",
   "language": "python",
   "name": "python3"
  },
  "language_info": {
   "codemirror_mode": {
    "name": "ipython",
    "version": 3
   },
   "file_extension": ".py",
   "mimetype": "text/x-python",
   "name": "python",
   "nbconvert_exporter": "python",
   "pygments_lexer": "ipython3",
   "version": "3.10.13"
  }
 },
 "nbformat": 4,
 "nbformat_minor": 2
}
